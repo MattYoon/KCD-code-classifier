{
 "cells": [
  {
   "cell_type": "code",
   "execution_count": 1,
   "source": [
    "from model import infer"
   ],
   "outputs": [
    {
     "output_type": "stream",
     "name": "stdout",
     "text": [
      "Loading Model\n",
      "Loading W2V, may take some time > 5 minutes\n"
     ]
    },
    {
     "output_type": "stream",
     "name": "stderr",
     "text": [
      "Some weights of the model checkpoint at klue/roberta-large were not used when initializing RobertaModel: ['lm_head.bias', 'lm_head.dense.weight', 'lm_head.decoder.weight', 'lm_head.decoder.bias', 'lm_head.dense.bias', 'lm_head.layer_norm.weight', 'lm_head.layer_norm.bias']\n",
      "- This IS expected if you are initializing RobertaModel from the checkpoint of a model trained on another task or with another architecture (e.g. initializing a BertForSequenceClassification model from a BertForPreTraining model).\n",
      "- This IS NOT expected if you are initializing RobertaModel from the checkpoint of a model that you expect to be exactly identical (initializing a BertForSequenceClassification model from a BertForSequenceClassification model).\n",
      "Some weights of RobertaModel were not initialized from the model checkpoint at klue/roberta-large and are newly initialized: ['roberta.pooler.dense.weight', 'roberta.pooler.dense.bias']\n",
      "You should probably TRAIN this model on a down-stream task to be able to use it for predictions and inference.\n"
     ]
    },
    {
     "output_type": "stream",
     "name": "stdout",
     "text": [
      "Model Loaded\n"
     ]
    }
   ],
   "metadata": {}
  },
  {
   "cell_type": "code",
   "execution_count": 2,
   "source": [
    "infer('좌측 손끝이 저리고 붓는 증상이 있고 손목과 팔꿈치가 묵직한 통증이 있다. 집안일을 하려고 하면 통증이 있어서 물건을 놓치는 경우도 있다. 4,5수지가 저리다. 작년 3월 교통사고로 손목 골절이 있었다.')"
   ],
   "outputs": [
    {
     "output_type": "execute_result",
     "data": {
      "text/plain": [
       "['G562-009', 'M771', 'G560', 'M770', 'M754']"
      ]
     },
     "metadata": {},
     "execution_count": 2
    }
   ],
   "metadata": {}
  },
  {
   "cell_type": "code",
   "execution_count": 3,
   "source": [
    "infer('parkinson apos s disease, CVA, APCs, aortic dilatation, sinus pause Hx. 있는 환자로. 올해 겨울부터 손이 추운데 노출되면 파랗게 / 얼룩덜룩 해져서 내원. Raynaud scan +')"
   ],
   "outputs": [
    {
     "output_type": "execute_result",
     "data": {
      "text/plain": [
       "['I730', 'M359-002', 'D229-008', 'J955-001', 'D229-003']"
      ]
     },
     "metadata": {},
     "execution_count": 3
    }
   ],
   "metadata": {}
  },
  {
   "cell_type": "code",
   "execution_count": 4,
   "source": [
    "infer('이전의 두통의 병력 상태. 10일전에 갑자기 우측 후두부의 두통 발생. 피임약이나 다른 약 복용하는 것 없음. visual Sx. 빛공포 소리공포. 오심 구토. 기립시 악화 약간 있다. focal ANS. Valsalva effect. 가끔 얼굴이나 팔이나 손이 찌릿할때는 있다.')"
   ],
   "outputs": [
    {
     "output_type": "execute_result",
     "data": {
      "text/plain": [
       "['G441', 'R51', 'G441-A1', 'I678-005', 'G442']"
      ]
     },
     "metadata": {},
     "execution_count": 4
    }
   ],
   "metadata": {}
  },
  {
   "cell_type": "code",
   "execution_count": 5,
   "source": [
    "infer('2월 9일부터 갑자기 어지러웠고, 고개를 돌리거나 누워있다 일어나면 더 어지러웠다. 걸을때 똑바로 못걷겠다')"
   ],
   "outputs": [
    {
     "output_type": "execute_result",
     "data": {
      "text/plain": [
       "['R42-001', 'R42', 'H814-001', 'I951', 'H811-001']"
      ]
     },
     "metadata": {},
     "execution_count": 5
    }
   ],
   "metadata": {}
  },
  {
   "cell_type": "code",
   "execution_count": null,
   "source": [],
   "outputs": [],
   "metadata": {}
  }
 ],
 "metadata": {
  "orig_nbformat": 4,
  "language_info": {
   "name": "python",
   "version": "3.9.7",
   "mimetype": "text/x-python",
   "codemirror_mode": {
    "name": "ipython",
    "version": 3
   },
   "pygments_lexer": "ipython3",
   "nbconvert_exporter": "python",
   "file_extension": ".py"
  },
  "kernelspec": {
   "name": "python3",
   "display_name": "Python 3.9.7 64-bit ('model': conda)"
  },
  "interpreter": {
   "hash": "cdf693b07d56f455df4b8a017c799c297ce52563b95235da76dd1181cdb6737f"
  }
 },
 "nbformat": 4,
 "nbformat_minor": 2
}