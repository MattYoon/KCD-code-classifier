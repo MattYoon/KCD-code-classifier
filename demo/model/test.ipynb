{
 "cells": [
  {
   "cell_type": "code",
   "execution_count": null,
   "source": [
    "from model import infer\n",
    "\n",
    "infer('좌측 손끝이 저리고 붓는 증상이 있고 손목과 팔꿈치가 묵직한 통증이 있다. 집안일을 하려고 하면 통증이 있어서 물건을 놓치는 경우도 있다. 4,5수지가 저리다. 작년 3월 교통사고로 손목 골절이 있었다.')"
   ],
   "outputs": [],
   "metadata": {}
  }
 ],
 "metadata": {
  "orig_nbformat": 4,
  "language_info": {
   "name": "python"
  }
 },
 "nbformat": 4,
 "nbformat_minor": 2
}