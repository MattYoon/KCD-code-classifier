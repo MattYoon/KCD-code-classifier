{
 "cells": [
  {
   "cell_type": "code",
   "execution_count": 1,
   "source": [
    "import pandas as pd\n",
    "from sklearn.model_selection import train_test_split\n",
    "df = pd.read_csv('data_no_sparse.csv')\n",
    "df_train, df_tmp = train_test_split(\n",
    "    df, test_size=0.1, shuffle=True, random_state=1)\n",
    "df_valid, df_test = train_test_split(\n",
    "    df_tmp, test_size=0.5, shuffle=True, random_state=1)"
   ],
   "outputs": [],
   "metadata": {}
  },
  {
   "cell_type": "code",
   "execution_count": 2,
   "source": [
    "df_train.to_csv('no_sparse_train.csv')\n",
    "df_valid.to_csv('no_sparse_valid.csv')\n",
    "df_test.to_csv('no_sparse_test.csv')"
   ],
   "outputs": [],
   "metadata": {}
  },
  {
   "cell_type": "code",
   "execution_count": null,
   "source": [],
   "outputs": [],
   "metadata": {}
  }
 ],
 "metadata": {
  "orig_nbformat": 4,
  "language_info": {
   "name": "python",
   "version": "3.9.7",
   "mimetype": "text/x-python",
   "codemirror_mode": {
    "name": "ipython",
    "version": 3
   },
   "pygments_lexer": "ipython3",
   "nbconvert_exporter": "python",
   "file_extension": ".py"
  },
  "kernelspec": {
   "name": "python3",
   "display_name": "Python 3.9.7 64-bit ('model': conda)"
  },
  "interpreter": {
   "hash": "cdf693b07d56f455df4b8a017c799c297ce52563b95235da76dd1181cdb6737f"
  }
 },
 "nbformat": 4,
 "nbformat_minor": 2
}