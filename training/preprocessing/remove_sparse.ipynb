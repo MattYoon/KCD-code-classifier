{
 "cells": [
  {
   "cell_type": "code",
   "execution_count": 1,
   "source": [
    "import pandas as pd\n",
    "df = pd.read_csv('data_no_dup.csv')\n",
    "df.agg(['count', 'size', 'nunique'])"
   ],
   "outputs": [
    {
     "output_type": "execute_result",
     "data": {
      "text/html": [
       "<div>\n",
       "<style scoped>\n",
       "    .dataframe tbody tr th:only-of-type {\n",
       "        vertical-align: middle;\n",
       "    }\n",
       "\n",
       "    .dataframe tbody tr th {\n",
       "        vertical-align: top;\n",
       "    }\n",
       "\n",
       "    .dataframe thead th {\n",
       "        text-align: right;\n",
       "    }\n",
       "</style>\n",
       "<table border=\"1\" class=\"dataframe\">\n",
       "  <thead>\n",
       "    <tr style=\"text-align: right;\">\n",
       "      <th></th>\n",
       "      <th>주호소 및 현병력</th>\n",
       "      <th>주호소 및 현병력 영문</th>\n",
       "      <th>진단코드</th>\n",
       "      <th>진단명</th>\n",
       "      <th>진단분류</th>\n",
       "      <th>진단소분류</th>\n",
       "      <th>진단중분류</th>\n",
       "      <th>진료의세부분야</th>\n",
       "      <th>진료과</th>\n",
       "    </tr>\n",
       "  </thead>\n",
       "  <tbody>\n",
       "    <tr>\n",
       "      <th>count</th>\n",
       "      <td>174391</td>\n",
       "      <td>173492</td>\n",
       "      <td>174391</td>\n",
       "      <td>174391</td>\n",
       "      <td>174391</td>\n",
       "      <td>174391</td>\n",
       "      <td>174391</td>\n",
       "      <td>173973</td>\n",
       "      <td>174391</td>\n",
       "    </tr>\n",
       "    <tr>\n",
       "      <th>size</th>\n",
       "      <td>174391</td>\n",
       "      <td>174391</td>\n",
       "      <td>174391</td>\n",
       "      <td>174391</td>\n",
       "      <td>174391</td>\n",
       "      <td>174391</td>\n",
       "      <td>174391</td>\n",
       "      <td>174391</td>\n",
       "      <td>174391</td>\n",
       "    </tr>\n",
       "    <tr>\n",
       "      <th>nunique</th>\n",
       "      <td>174391</td>\n",
       "      <td>146229</td>\n",
       "      <td>6042</td>\n",
       "      <td>5986</td>\n",
       "      <td>3914</td>\n",
       "      <td>1090</td>\n",
       "      <td>220</td>\n",
       "      <td>163</td>\n",
       "      <td>24</td>\n",
       "    </tr>\n",
       "  </tbody>\n",
       "</table>\n",
       "</div>"
      ],
      "text/plain": [
       "         주호소 및 현병력  주호소 및 현병력 영문    진단코드     진단명    진단분류   진단소분류   진단중분류  \\\n",
       "count       174391        173492  174391  174391  174391  174391  174391   \n",
       "size        174391        174391  174391  174391  174391  174391  174391   \n",
       "nunique     174391        146229    6042    5986    3914    1090     220   \n",
       "\n",
       "         진료의세부분야     진료과  \n",
       "count     173973  174391  \n",
       "size      174391  174391  \n",
       "nunique      163      24  "
      ]
     },
     "metadata": {},
     "execution_count": 1
    }
   ],
   "metadata": {}
  },
  {
   "cell_type": "code",
   "execution_count": 2,
   "source": [
    "counts = df['진단코드'].value_counts()\n",
    "counts"
   ],
   "outputs": [
    {
     "output_type": "execute_result",
     "data": {
      "text/plain": [
       "Z000         3138\n",
       "R1049        2547\n",
       "R42-001      1968\n",
       "I839         1820\n",
       "R91          1723\n",
       "             ... \n",
       "K2211-001       1\n",
       "K717            1\n",
       "C1619           1\n",
       "S002            1\n",
       "J679-A2         1\n",
       "Name: 진단코드, Length: 6042, dtype: int64"
      ]
     },
     "metadata": {},
     "execution_count": 2
    }
   ],
   "metadata": {}
  },
  {
   "cell_type": "code",
   "execution_count": 3,
   "source": [
    "counts.quantile([0.25, 0.5, 0.75, 0.9, 0.99])"
   ],
   "outputs": [
    {
     "output_type": "execute_result",
     "data": {
      "text/plain": [
       "0.25      2.00\n",
       "0.50      4.00\n",
       "0.75     12.00\n",
       "0.90     51.00\n",
       "0.99    495.26\n",
       "Name: 진단코드, dtype: float64"
      ]
     },
     "metadata": {},
     "execution_count": 3
    }
   ],
   "metadata": {}
  },
  {
   "cell_type": "code",
   "execution_count": 4,
   "source": [
    "df = df.groupby('진단코드').filter(lambda x : len(x) > 20)\n",
    "df = df[df['진단코드'] != 'Z000']\n",
    "df.agg(['count', 'size', 'nunique'])"
   ],
   "outputs": [
    {
     "output_type": "execute_result",
     "data": {
      "text/html": [
       "<div>\n",
       "<style scoped>\n",
       "    .dataframe tbody tr th:only-of-type {\n",
       "        vertical-align: middle;\n",
       "    }\n",
       "\n",
       "    .dataframe tbody tr th {\n",
       "        vertical-align: top;\n",
       "    }\n",
       "\n",
       "    .dataframe thead th {\n",
       "        text-align: right;\n",
       "    }\n",
       "</style>\n",
       "<table border=\"1\" class=\"dataframe\">\n",
       "  <thead>\n",
       "    <tr style=\"text-align: right;\">\n",
       "      <th></th>\n",
       "      <th>주호소 및 현병력</th>\n",
       "      <th>주호소 및 현병력 영문</th>\n",
       "      <th>진단코드</th>\n",
       "      <th>진단명</th>\n",
       "      <th>진단분류</th>\n",
       "      <th>진단소분류</th>\n",
       "      <th>진단중분류</th>\n",
       "      <th>진료의세부분야</th>\n",
       "      <th>진료과</th>\n",
       "    </tr>\n",
       "  </thead>\n",
       "  <tbody>\n",
       "    <tr>\n",
       "      <th>count</th>\n",
       "      <td>147856</td>\n",
       "      <td>147110</td>\n",
       "      <td>147856</td>\n",
       "      <td>147856</td>\n",
       "      <td>147856</td>\n",
       "      <td>147856</td>\n",
       "      <td>147856</td>\n",
       "      <td>147438</td>\n",
       "      <td>147856</td>\n",
       "    </tr>\n",
       "    <tr>\n",
       "      <th>size</th>\n",
       "      <td>147856</td>\n",
       "      <td>147856</td>\n",
       "      <td>147856</td>\n",
       "      <td>147856</td>\n",
       "      <td>147856</td>\n",
       "      <td>147856</td>\n",
       "      <td>147856</td>\n",
       "      <td>147856</td>\n",
       "      <td>147856</td>\n",
       "    </tr>\n",
       "    <tr>\n",
       "      <th>nunique</th>\n",
       "      <td>147856</td>\n",
       "      <td>124391</td>\n",
       "      <td>1095</td>\n",
       "      <td>1084</td>\n",
       "      <td>883</td>\n",
       "      <td>474</td>\n",
       "      <td>155</td>\n",
       "      <td>160</td>\n",
       "      <td>23</td>\n",
       "    </tr>\n",
       "  </tbody>\n",
       "</table>\n",
       "</div>"
      ],
      "text/plain": [
       "         주호소 및 현병력  주호소 및 현병력 영문    진단코드     진단명    진단분류   진단소분류   진단중분류  \\\n",
       "count       147856        147110  147856  147856  147856  147856  147856   \n",
       "size        147856        147856  147856  147856  147856  147856  147856   \n",
       "nunique     147856        124391    1095    1084     883     474     155   \n",
       "\n",
       "         진료의세부분야     진료과  \n",
       "count     147438  147856  \n",
       "size      147856  147856  \n",
       "nunique      160      23  "
      ]
     },
     "metadata": {},
     "execution_count": 4
    }
   ],
   "metadata": {}
  },
  {
   "cell_type": "code",
   "execution_count": 7,
   "source": [
    "sample = df[['진단코드', '진단명']]\n",
    "sample.groupby('진단명')"
   ],
   "outputs": [
    {
     "output_type": "execute_result",
     "data": {
      "text/plain": [
       "<pandas.core.groupby.generic.DataFrameGroupBy object at 0x7f987c0b1910>"
      ]
     },
     "metadata": {},
     "execution_count": 7
    }
   ],
   "metadata": {}
  },
  {
   "cell_type": "code",
   "execution_count": 6,
   "source": [
    "dic = {}\n",
    "def remove_diff(row, key_str, val_str):\n",
    "    key, value = row[key_str], row[val_str]\n",
    "    try:\n",
    "        if dic[key] != value:\n",
    "            row[val_str] = dic[key]\n",
    "    except KeyError:\n",
    "        dic[key] = value\n",
    "    return row\n",
    "df.apply(lambda row: remove_diff(row, '진단명', '진단코드'), axis=1)\n",
    "print('Done')"
   ],
   "outputs": [
    {
     "output_type": "stream",
     "name": "stdout",
     "text": [
      "Done\n"
     ]
    }
   ],
   "metadata": {}
  },
  {
   "cell_type": "code",
   "execution_count": 7,
   "source": [
    "df.agg(['count', 'size', 'nunique'])"
   ],
   "outputs": [
    {
     "output_type": "execute_result",
     "data": {
      "text/html": [
       "<div>\n",
       "<style scoped>\n",
       "    .dataframe tbody tr th:only-of-type {\n",
       "        vertical-align: middle;\n",
       "    }\n",
       "\n",
       "    .dataframe tbody tr th {\n",
       "        vertical-align: top;\n",
       "    }\n",
       "\n",
       "    .dataframe thead th {\n",
       "        text-align: right;\n",
       "    }\n",
       "</style>\n",
       "<table border=\"1\" class=\"dataframe\">\n",
       "  <thead>\n",
       "    <tr style=\"text-align: right;\">\n",
       "      <th></th>\n",
       "      <th>주호소 및 현병력</th>\n",
       "      <th>주호소 및 현병력 영문</th>\n",
       "      <th>진단코드</th>\n",
       "      <th>진단명</th>\n",
       "      <th>진단분류</th>\n",
       "      <th>진단소분류</th>\n",
       "      <th>진단중분류</th>\n",
       "      <th>진료의세부분야</th>\n",
       "      <th>진료과</th>\n",
       "    </tr>\n",
       "  </thead>\n",
       "  <tbody>\n",
       "    <tr>\n",
       "      <th>count</th>\n",
       "      <td>147856</td>\n",
       "      <td>147110</td>\n",
       "      <td>147856</td>\n",
       "      <td>147856</td>\n",
       "      <td>147856</td>\n",
       "      <td>147856</td>\n",
       "      <td>147856</td>\n",
       "      <td>147438</td>\n",
       "      <td>147856</td>\n",
       "    </tr>\n",
       "    <tr>\n",
       "      <th>size</th>\n",
       "      <td>147856</td>\n",
       "      <td>147856</td>\n",
       "      <td>147856</td>\n",
       "      <td>147856</td>\n",
       "      <td>147856</td>\n",
       "      <td>147856</td>\n",
       "      <td>147856</td>\n",
       "      <td>147856</td>\n",
       "      <td>147856</td>\n",
       "    </tr>\n",
       "    <tr>\n",
       "      <th>nunique</th>\n",
       "      <td>147856</td>\n",
       "      <td>124391</td>\n",
       "      <td>1084</td>\n",
       "      <td>1084</td>\n",
       "      <td>883</td>\n",
       "      <td>474</td>\n",
       "      <td>155</td>\n",
       "      <td>160</td>\n",
       "      <td>23</td>\n",
       "    </tr>\n",
       "  </tbody>\n",
       "</table>\n",
       "</div>"
      ],
      "text/plain": [
       "         주호소 및 현병력  주호소 및 현병력 영문    진단코드     진단명    진단분류   진단소분류   진단중분류  \\\n",
       "count       147856        147110  147856  147856  147856  147856  147856   \n",
       "size        147856        147856  147856  147856  147856  147856  147856   \n",
       "nunique     147856        124391    1084    1084     883     474     155   \n",
       "\n",
       "         진료의세부분야     진료과  \n",
       "count     147438  147856  \n",
       "size      147856  147856  \n",
       "nunique      160      23  "
      ]
     },
     "metadata": {},
     "execution_count": 7
    }
   ],
   "metadata": {}
  },
  {
   "cell_type": "code",
   "execution_count": 8,
   "source": [
    "df.to_csv('data_no_sparse.csv', index=False)"
   ],
   "outputs": [],
   "metadata": {}
  },
  {
   "cell_type": "code",
   "execution_count": 1,
   "source": [
    "import pandas as pd\n",
    "df = pd.read_csv('data_no_sparse.csv')"
   ],
   "outputs": [],
   "metadata": {}
  },
  {
   "cell_type": "code",
   "execution_count": null,
   "source": [
    "def remove_diff(row, key_str, val_str):\n",
    "    key, value = row[key_str], row[val_str]\n",
    "    try:\n",
    "        if dic[key] != value:\n",
    "            print(True)\n",
    "    except KeyError:\n",
    "        dic[key] = value\n",
    "    return row\n",
    "df.apply(lambda row: remove_diff(row, '진단명', '진단코드'), axis=1)"
   ],
   "outputs": [],
   "metadata": {}
  }
 ],
 "metadata": {
  "orig_nbformat": 4,
  "language_info": {
   "name": "python",
   "version": "3.9.7",
   "mimetype": "text/x-python",
   "codemirror_mode": {
    "name": "ipython",
    "version": 3
   },
   "pygments_lexer": "ipython3",
   "nbconvert_exporter": "python",
   "file_extension": ".py"
  },
  "kernelspec": {
   "name": "python3",
   "display_name": "Python 3.9.7 64-bit ('model': conda)"
  },
  "interpreter": {
   "hash": "cdf693b07d56f455df4b8a017c799c297ce52563b95235da76dd1181cdb6737f"
  }
 },
 "nbformat": 4,
 "nbformat_minor": 2
}